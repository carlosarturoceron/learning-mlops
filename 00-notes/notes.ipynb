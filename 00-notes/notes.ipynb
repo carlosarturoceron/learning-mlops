{
 "cells": [
  {
   "cell_type": "markdown",
   "metadata": {},
   "source": [
    "# MLOPs ZoomCamp\n",
    "\n",
    "---\n",
    "\n",
    "MLOPs: conjunto de `best practices` para poner ML en produccion\n",
    "\n",
    "Usaremos como ejemplo:\n",
    "\n",
    "* Predecir la duracion de un viaje (Uber, Didi)\n",
    "\n",
    "<div style=\"text-align: center\">\n",
    "  <img src=\"../00-notes/assets/00-taxi.png\" alt=\"Returns Histograms\" style=\"display: inline-block; max-width: 500px; margin: 0 auto\"> \n",
    "</div>\n",
    "\n",
    "Etapas de un proyecto ML:\n",
    "\n",
    "1. Diseño -- Realmente necesitamos ML?\n",
    "\n",
    "2. Entrenamiento -- Entrenamos el modelo, tratamos de encontrar el mejor modelo\n",
    "\n",
    "3. Operaciones -- Desplegamos el modelo a un servicio web \n",
    "\n",
    "MLOPs ayuda en todas las etapas del proceso. Reproducir resultados, reentrenar en un clic, desplegar y monitorear el performance.\n",
    "\n",
    "Es un conjunto de prácticas para automatizar todo el proceso y trabajar en conjunto."
   ]
  },
  {
   "cell_type": "markdown",
   "metadata": {},
   "source": [
    "## Instalar el ambiente de trabajo\n",
    "---\n",
    "\n",
    "Recomendado usar Github Codespaces y la conexión con VS Code local"
   ]
  },
  {
   "cell_type": "markdown",
   "metadata": {},
   "source": [
    "## 2 - Seguimiento de experimentos\n",
    "\n",
    "---\n",
    "\n",
    "* Experimento de ML: el proceso de construir un modelo de ML\n",
    "\n",
    "* Corrida experimental:\n",
    "\n",
    "Es el proceso de llevar un registro de toda la informacion relevante de un experimento de ML.\n",
    "\n",
    "Incluye:\n",
    "\n",
    "* Codigo fuente\n",
    "\n",
    "* Ambiente\n",
    "\n",
    "* Datos\n",
    "\n",
    "* Modelo\n",
    "\n",
    "* Hiperparametrox\n",
    "\n",
    "* Metricas\n",
    "\n",
    "### Por que es importante?\n",
    "\n",
    "* Reproducibilidad\n",
    "\n",
    "* Organizacion\n",
    "\n",
    "* Optimizacion\n",
    "\n",
    "* Automatizacion\n",
    "\n",
    "Un ejemplo de un sistema de seguimiento de experimentos basico puede ser una hoja de calculo en excel que se usa para\n",
    "registrar la informacion relevante sobre el entrenamiento.\n",
    "\n",
    "## MLflow\n",
    "\n",
    "Definicion: una plataforma opensource para el ciclo de vida del machine learning.\n",
    "(todo el proceso de construir, desplegar y operar una solucion de ML)\n",
    "\n",
    "Es un paquete de python `pip install mlflow`\n",
    "\n",
    "Tiene 4 modulos: `Tracking, Models, Model Registry, Projects`\n",
    "\n",
    "### Seguimiento de experimentos en MLflow\n",
    "\n",
    "El modulo `Tracking` permite organizar el experimento en `corridas` y dar seguimiento a las siguientes entidades:\n",
    "\n",
    "\n",
    "* Parameters: dataset version, etc..\n",
    " \n",
    "* Metrics: accuracy, r1 en train, val y test\n",
    " \n",
    "* Metadata: tags\n",
    " \n",
    "* Artifacts: objetos de python usados para el entrenamiento, \n",
    " \n",
    "* Models: Modelos de ML\n",
    "\n",
    "Automaticamente da seguimiento a :\n",
    "\n",
    "* Codigo fuente (git commit)\n",
    "\n",
    "* Version del codigo fuente\n",
    "\n",
    "* Hora de inicio y termino\n",
    "\n",
    "* Nombre del autor"
   ]
  },
  {
   "cell_type": "code",
   "execution_count": 1,
   "metadata": {},
   "outputs": [
    {
     "data": {
      "text/plain": [
       "'2.13.0'"
      ]
     },
     "execution_count": 1,
     "metadata": {},
     "output_type": "execute_result"
    }
   ],
   "source": [
    "# iniciando con mlfow\n",
    "# !pip install mlflow==2.13.0\n",
    "import mlflow \n",
    "mlflow.__version__"
   ]
  },
  {
   "cell_type": "markdown",
   "metadata": {},
   "source": [
    "Ejecutando MLflow desde bash con backend en sqlite\n",
    "\n",
    "```bash\n",
    "mlflow ui --backend-store-uri sqlite:///mlflow.db\n",
    "```"
   ]
  }
 ],
 "metadata": {
  "kernelspec": {
   "display_name": "Python 3",
   "language": "python",
   "name": "python3"
  },
  "language_info": {
   "codemirror_mode": {
    "name": "ipython",
    "version": 3
   },
   "file_extension": ".py",
   "mimetype": "text/x-python",
   "name": "python",
   "nbconvert_exporter": "python",
   "pygments_lexer": "ipython3",
   "version": "3.10.13"
  }
 },
 "nbformat": 4,
 "nbformat_minor": 2
}
