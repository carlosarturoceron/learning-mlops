{
 "cells": [
  {
   "cell_type": "markdown",
   "metadata": {},
   "source": [
    "# MLOPs ZoomCamp\n",
    "\n",
    "---\n",
    "\n",
    "MLOPs: conjunto de `best practices` para poner ML en produccion\n",
    "\n",
    "Usaremos como ejemplo:\n",
    "\n",
    "* Predecir la duracion de un viaje (Uber, Didi)\n",
    "\n",
    "<div style=\"text-align: center\">\n",
    "  <img src=\"../00-notes/assets/00-taxi.png\" alt=\"Returns Histograms\" style=\"display: inline-block; max-width: 500px; margin: 0 auto\"> \n",
    "</div>\n",
    "\n",
    "Etapas de un proyecto ML:\n",
    "\n",
    "1. Diseño -- Realmente necesitamos ML?\n",
    "\n",
    "2. Entrenamiento -- Entrenamos el modelo, tratamos de encontrar el mejor modelo\n",
    "\n",
    "3. Operaciones -- Desplegamos el modelo a un servicio web \n",
    "\n",
    "MLOPs ayuda en todas las etapas del proceso. Reproducir resultados, reentrenar en un clic, desplegar y monitorear el performance.\n",
    "\n",
    "Es un conjunto de prácticas para automatizar todo el proceso y trabajar en conjunto."
   ]
  },
  {
   "cell_type": "markdown",
   "metadata": {},
   "source": [
    "## Instalar el ambiente de trabajo\n",
    "---\n",
    "\n",
    "Recomendado usar Github Codespaces y la conexión con VS Code local"
   ]
  },
  {
   "cell_type": "code",
   "execution_count": null,
   "metadata": {},
   "outputs": [],
   "source": []
  }
 ],
 "metadata": {
  "language_info": {
   "name": "python"
  }
 },
 "nbformat": 4,
 "nbformat_minor": 2
}
