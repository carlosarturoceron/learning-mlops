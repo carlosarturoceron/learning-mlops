{
 "cells": [
  {
   "cell_type": "code",
   "execution_count": 66,
   "id": "92bc5d8c",
   "metadata": {},
   "outputs": [
    {
     "name": "stdout",
     "output_type": "stream",
     "text": [
      "Python 3.9.12\n"
     ]
    }
   ],
   "source": [
    "!python -V"
   ]
  },
  {
   "cell_type": "code",
   "execution_count": 113,
   "id": "316b647c",
   "metadata": {},
   "outputs": [],
   "source": [
    "import pandas as pd\n",
    "import numpy as np\n",
    "import sklearn\n",
    "import seaborn as sns\n",
    "import matplotlib.pyplot as plt\n",
    "\n",
    "from sklearn.feature_extraction import DictVectorizer\n",
    "from sklearn.metrics import mean_squared_error"
   ]
  },
  {
   "cell_type": "code",
   "execution_count": 68,
   "id": "aaf9c4fe",
   "metadata": {},
   "outputs": [],
   "source": [
    "df = pd.read_parquet('./data/green_tripdata_2021-01.parquet') # leemos de parquet\n",
    "# diccionario d datos https://www.nyc.gov/assets/tlc/downloads/pdf/data_dictionary_trip_records_green.pdf\n",
    "#gree_taxi_jan = pd.read_parquet('./data/green_tripdata_2021-01.parquet')\n",
    "#green_taxi_feb = pd.read_parquet('./data/green_tripdata_2021-02.parquet')"
   ]
  },
  {
   "cell_type": "code",
   "execution_count": 69,
   "id": "499c1e97",
   "metadata": {},
   "outputs": [],
   "source": [
    "df.lpep_dropoff_datetime = pd.to_datetime(df.lpep_dropoff_datetime) # parseamos el string a datetime\n",
    "df.lpep_pickup_datetime = pd.to_datetime(df.lpep_pickup_datetime)"
   ]
  },
  {
   "cell_type": "code",
   "execution_count": 70,
   "id": "de1e0dc8",
   "metadata": {},
   "outputs": [
    {
     "data": {
      "text/plain": [
       "0       0 days 00:03:56\n",
       "1       0 days 00:08:45\n",
       "2       0 days 00:05:58\n",
       "3       0 days 00:07:05\n",
       "4       0 days 00:00:04\n",
       "              ...      \n",
       "76513   0 days 00:38:00\n",
       "76514   0 days 00:38:00\n",
       "76515   0 days 00:11:00\n",
       "76516   0 days 00:27:00\n",
       "76517   0 days 00:10:00\n",
       "Name: duration, Length: 76518, dtype: timedelta64[ns]"
      ]
     },
     "execution_count": 70,
     "metadata": {},
     "output_type": "execute_result"
    }
   ],
   "source": [
    "df[\"duration\"] = df.lpep_dropoff_datetime - df.lpep_pickup_datetime # calculamos la duración del viaje\n",
    "# duracion del viaje = hora de bajada - hora de abordaje\n",
    "df[\"duration\"] "
   ]
  },
  {
   "cell_type": "markdown",
   "id": "2e989034",
   "metadata": {},
   "source": [
    "Este formato de salida no es util para el modelo, asi que lo vamos a convertir a la duracion en minutos"
   ]
  },
  {
   "cell_type": "code",
   "execution_count": 71,
   "id": "661a3f23",
   "metadata": {},
   "outputs": [
    {
     "data": {
      "text/plain": [
       "3.933333333333333"
      ]
     },
     "execution_count": 71,
     "metadata": {},
     "output_type": "execute_result"
    }
   ],
   "source": [
    "td = df.duration.copy().iloc[0]\n",
    "td.total_seconds()/60 # el primer viaje tardó 4 minutos\n",
    "# aplicamos el mismo tratamiento a toda la columna"
   ]
  },
  {
   "cell_type": "code",
   "execution_count": 72,
   "id": "672c00d2",
   "metadata": {},
   "outputs": [],
   "source": [
    "df[\"duration\"] = df.duration.apply(lambda x: x.total_seconds()/60) # aplicando a toda la columna\n",
    "# de la columna duracion nos interesa conocer la distribucion de esta variable"
   ]
  },
  {
   "cell_type": "code",
   "execution_count": 73,
   "id": "3e68b224",
   "metadata": {},
   "outputs": [],
   "source": [
    "\n",
    "df = df[(df.duration >= 1) & (df.duration <=60)]"
   ]
  },
  {
   "cell_type": "code",
   "execution_count": 74,
   "id": "22402450",
   "metadata": {},
   "outputs": [
    {
     "name": "stderr",
     "output_type": "stream",
     "text": [
      "/home/codespace/anaconda3/lib/python3.9/site-packages/seaborn/distributions.py:2619: FutureWarning: `distplot` is a deprecated function and will be removed in a future version. Please adapt your code to use either `displot` (a figure-level function with similar flexibility) or `histplot` (an axes-level function for histograms).\n",
      "  warnings.warn(msg, FutureWarning)\n"
     ]
    },
    {
     "data": {
      "text/plain": [
       "<AxesSubplot:xlabel='duration', ylabel='Density'>"
      ]
     },
     "execution_count": 74,
     "metadata": {},
     "output_type": "execute_result"
    },
    {
     "data": {
      "image/png": "[encoded data removed]",
      "text/plain": [
       "<Figure size 432x288 with 1 Axes>"
      ]
     },
     "metadata": {
      "needs_background": "light"
     },
     "output_type": "display_data"
    }
   ],
   "source": [
    "sns.distplot(df.duration)"
   ]
  },
  {
   "cell_type": "code",
   "execution_count": 78,
   "id": "adf23075",
   "metadata": {},
   "outputs": [],
   "source": [
    "categorical = [\"PULocationID\", \"DOLocationID\"]\n",
    "numerical = [\"trip_distance\"]"
   ]
  },
  {
   "cell_type": "code",
   "execution_count": 81,
   "id": "d838f243",
   "metadata": {},
   "outputs": [],
   "source": [
    "df [categorical]= df[categorical].astype(str)"
   ]
  },
  {
   "cell_type": "code",
   "execution_count": 87,
   "id": "423b6ab1",
   "metadata": {},
   "outputs": [],
   "source": [
    "train_dicts = df[categorical + numerical].to_dict(orient=\"records\")"
   ]
  },
  {
   "cell_type": "code",
   "execution_count": 88,
   "id": "ef7bf4df",
   "metadata": {},
   "outputs": [],
   "source": [
    "dv = DictVectorizer()\n",
    "X_train = dv.fit_transform(train_dicts)"
   ]
  },
  {
   "cell_type": "code",
   "execution_count": 89,
   "id": "6388ec04",
   "metadata": {},
   "outputs": [
    {
     "data": {
      "text/plain": [
       "<73908x507 sparse matrix of type '<class 'numpy.float64'>'\n",
       "\twith 221724 stored elements in Compressed Sparse Row format>"
      ]
     },
     "execution_count": 89,
     "metadata": {},
     "output_type": "execute_result"
    }
   ],
   "source": [
    "X_train # esto crea la matrix de features que utilizaremos para entrenar el modelo"
   ]
  },
  {
   "cell_type": "code",
   "execution_count": 96,
   "id": "726bbd01",
   "metadata": {},
   "outputs": [],
   "source": [
    "# dv.feature_names_\n",
    "# para ver el los features que utilizaremos"
   ]
  },
  {
   "cell_type": "code",
   "execution_count": 99,
   "id": "06f39e24",
   "metadata": {},
   "outputs": [
    {
     "data": {
      "text/plain": [
       "array([ 3.93333333,  8.75      ,  5.96666667, ..., 11.        ,\n",
       "       27.        , 10.        ])"
      ]
     },
     "execution_count": 99,
     "metadata": {},
     "output_type": "execute_result"
    }
   ],
   "source": [
    "target = \"duration\"\n",
    "y_train = df[target].values\n",
    "y_train"
   ]
  },
  {
   "cell_type": "code",
   "execution_count": 100,
   "id": "7629fcde",
   "metadata": {},
   "outputs": [
    {
     "data": {
      "text/plain": [
       "LinearRegression()"
      ]
     },
     "execution_count": 100,
     "metadata": {},
     "output_type": "execute_result"
    }
   ],
   "source": [
    "# Entrenando una regresión lineal\n",
    "from sklearn.linear_model import LinearRegression\n",
    "lr = LinearRegression()\n",
    "lr.fit(X_train,y_train)"
   ]
  },
  {
   "cell_type": "code",
   "execution_count": null,
   "id": "5ad19533",
   "metadata": {},
   "outputs": [],
   "source": [
    "# no tenemos datset de validacion, utilizaremos el mes de febrero como dataset de validación"
   ]
  },
  {
   "cell_type": "code",
   "execution_count": 101,
   "id": "c7ec6eab",
   "metadata": {},
   "outputs": [],
   "source": [
    "y_pred = lr.predict(X_train)"
   ]
  },
  {
   "cell_type": "code",
   "execution_count": 112,
   "id": "72dfa741",
   "metadata": {},
   "outputs": [
    {
     "name": "stderr",
     "output_type": "stream",
     "text": [
      "/home/codespace/anaconda3/lib/python3.9/site-packages/seaborn/distributions.py:2619: FutureWarning: `distplot` is a deprecated function and will be removed in a future version. Please adapt your code to use either `displot` (a figure-level function with similar flexibility) or `histplot` (an axes-level function for histograms).\n",
      "  warnings.warn(msg, FutureWarning)\n",
      "/home/codespace/anaconda3/lib/python3.9/site-packages/seaborn/distributions.py:2619: FutureWarning: `distplot` is a deprecated function and will be removed in a future version. Please adapt your code to use either `displot` (a figure-level function with similar flexibility) or `histplot` (an axes-level function for histograms).\n",
      "  warnings.warn(msg, FutureWarning)\n"
     ]
    },
    {
     "data": {
      "image/png": "[encoded data removed]",
      "text/plain": [
       "<Figure size 432x288 with 1 Axes>"
      ]
     },
     "metadata": {
      "needs_background": "light"
     },
     "output_type": "display_data"
    }
   ],
   "source": [
    "sns.distplot(y_pred, label=\"prediction\")\n",
    "sns.distplot(y_train, label=\"actual\")\n",
    "plt.legend()\n",
    "plt.show()"
   ]
  },
  {
   "cell_type": "code",
   "execution_count": 115,
   "id": "880beee9",
   "metadata": {},
   "outputs": [
    {
     "data": {
      "text/plain": [
       "9.775464278878395"
      ]
     },
     "execution_count": 115,
     "metadata": {},
     "output_type": "execute_result"
    }
   ],
   "source": [
    "# calcular el performance en el datset de entrenamiento\n",
    "mean_squared_error(y_train, y_pred, squared=False) # squared=False para obtener root_mean_squared_error"
   ]
  },
  {
   "cell_type": "markdown",
   "id": "60fdc321",
   "metadata": {},
   "source": [
    "El modelo se equivoca en la predicción en promedio en 9 minutos."
   ]
  },
  {
   "cell_type": "code",
   "execution_count": 120,
   "id": "716daafa",
   "metadata": {},
   "outputs": [
    {
     "name": "stdout",
     "output_type": "stream",
     "text": [
      "rmse_lasso 133.68101098510675\n"
     ]
    },
    {
     "name": "stderr",
     "output_type": "stream",
     "text": [
      "/home/codespace/anaconda3/lib/python3.9/site-packages/seaborn/distributions.py:2619: FutureWarning: `distplot` is a deprecated function and will be removed in a future version. Please adapt your code to use either `displot` (a figure-level function with similar flexibility) or `histplot` (an axes-level function for histograms).\n",
      "  warnings.warn(msg, FutureWarning)\n",
      "/home/codespace/anaconda3/lib/python3.9/site-packages/seaborn/distributions.py:2619: FutureWarning: `distplot` is a deprecated function and will be removed in a future version. Please adapt your code to use either `displot` (a figure-level function with similar flexibility) or `histplot` (an axes-level function for histograms).\n",
      "  warnings.warn(msg, FutureWarning)\n"
     ]
    },
    {
     "data": {
      "text/plain": [
       "<AxesSubplot:ylabel='Density'>"
      ]
     },
     "execution_count": 120,
     "metadata": {},
     "output_type": "execute_result"
    },
    {
     "data": {
      "image/png": "[encoded data removed]",
      "text/plain": [
       "<Figure size 432x288 with 1 Axes>"
      ]
     },
     "metadata": {
      "needs_background": "light"
     },
     "output_type": "display_data"
    }
   ],
   "source": [
    "# usando un Lasso Regression\n",
    "from sklearn.linear_model import Lasso\n",
    "lasso_lr = Lasso()\n",
    "lasso_lr.fit(X_train, y_train)\n",
    "y_pred_lasso = lasso_lr.predict(X_train)\n",
    "print(\"rmse_lasso\", mean_squared_error(y_train, y_pred_lasso))\n",
    "sns.distplot(y_pred_lasso,label=\"lasso_prediction\")\n",
    "sns.distplot(y_train,label=\"actual\")"
   ]
  },
  {
   "cell_type": "markdown",
   "id": "cbd600e5",
   "metadata": {},
   "source": [
    "## No queremos estar repitiendo la ejecución de este proceso celda por celda\n",
    "---\n",
    "\n",
    "Vamos a crear funciones para este proceso"
   ]
  },
  {
   "cell_type": "code",
   "execution_count": 126,
   "id": "14f94a50",
   "metadata": {},
   "outputs": [],
   "source": [
    "# los más de los duros, los reales, los meros buenos\n",
    "import pandas as pd\n",
    "import numpy as np\n",
    "\n",
    "# para graficar\n",
    "import matplotlib.pyplot as plt\n",
    "import seaborn as sns   \n",
    "\n",
    "# libreria que usaremos para aprendizaje\n",
    "import sklearn\n",
    "\n",
    "# para preprocesamiento\n",
    "from sklearn.feature_extraction import DictVectorizer\n",
    "\n",
    "# los modelos\n",
    "from sklearn.linear_model import LinearRegression\n",
    "from sklearn.linear_model import Lasso\n",
    "\n",
    "# las metricas\n",
    "from sklearn.metrics import mean_squared_error"
   ]
  },
  {
   "cell_type": "code",
   "execution_count": 193,
   "id": "f014b3fe",
   "metadata": {},
   "outputs": [],
   "source": [
    "# la funcion para leer los datos\n",
    "def leer_dataframe(filename):\n",
    "\n",
    "    df = pd.read_parquet(filename)\n",
    "\n",
    "    # parseamos el string a datetime\n",
    "    \n",
    "    df.lpep_dropoff_datetime = pd.to_datetime(df.lpep_dropoff_datetime) \n",
    "    df.lpep_pickup_datetime = pd.to_datetime(df.lpep_pickup_datetime)\n",
    "\n",
    "    df[\"duration\"] = df.lpep_dropoff_datetime - df.lpep_pickup_datetime\n",
    "    df[\"duration\"] = df.duration.apply(lambda x: x.total_seconds()/60)\n",
    "\n",
    "    df = df[(df.duration >= 1) & (df.duration <=60)]\n",
    "\n",
    "    # convirtiendo la duracion a segundos\n",
    "    \n",
    "    categorical = [\"PULocationID\", \"DOLocationID\"]\n",
    "    df[categorical] = df[categorical].astype(str)\n",
    "\n",
    "    return df\n",
    "    "
   ]
  },
  {
   "cell_type": "code",
   "execution_count": 194,
   "id": "da59fdf9",
   "metadata": {},
   "outputs": [
    {
     "name": "stdout",
     "output_type": "stream",
     "text": [
      "(73908, 21) (61921, 21)\n"
     ]
    }
   ],
   "source": [
    "df_train = leer_dataframe('./data/green_tripdata_2021-01.parquet')\n",
    "df_val = leer_dataframe('./data/green_tripdata_2021-02.parquet')\n",
    "print(df_train.shape, df_val.shape)"
   ]
  },
  {
   "cell_type": "code",
   "execution_count": 195,
   "id": "f8068b7b",
   "metadata": {},
   "outputs": [
    {
     "name": "stdout",
     "output_type": "stream",
     "text": [
      "250\n",
      "256\n"
     ]
    }
   ],
   "source": [
    "print(df_train.PULocationID.nunique())\n",
    "print(df_train.DOLocationID.nunique())"
   ]
  },
  {
   "cell_type": "code",
   "execution_count": 196,
   "id": "afa96c77",
   "metadata": {},
   "outputs": [
    {
     "name": "stdout",
     "output_type": "stream",
     "text": [
      "245\n",
      "254\n"
     ]
    }
   ],
   "source": [
    "print(df_val.PULocationID.nunique())\n",
    "print(df_val.DOLocationID.nunique())"
   ]
  },
  {
   "cell_type": "code",
   "execution_count": 197,
   "id": "9a5c456f",
   "metadata": {},
   "outputs": [],
   "source": [
    "categorical = [\"PULocationID\", \"DOLocationID\"]\n",
    "numerical = [\"trip_distance\"]"
   ]
  },
  {
   "cell_type": "code",
   "execution_count": 202,
   "id": "d0ce6764",
   "metadata": {},
   "outputs": [],
   "source": [
    "dv = DictVectorizer()\n",
    "\n",
    "train_dicts = df_train[categorical + numerical].to_dict(orient=\"records\")\n",
    "X_train = dv.fit_transform(train_dicts)\n",
    "\n",
    "val_dicts = df_val[categorical + numerical].to_dict(orient=\"records\")\n",
    "X_val = dv.transform(val_dicts) # OJO aqui solo usamos transform\n",
    "\n",
    "target = 'duration'\n",
    "y_train = df_train[target].values\n",
    "y_val = df_val[target].values\n"
   ]
  },
  {
   "cell_type": "code",
   "execution_count": 203,
   "id": "17f315df",
   "metadata": {},
   "outputs": [
    {
     "name": "stdout",
     "output_type": "stream",
     "text": [
      "(73908, 507) (73908,)\n"
     ]
    }
   ],
   "source": [
    "print(X_train.shape, y_train.shape)"
   ]
  },
  {
   "cell_type": "code",
   "execution_count": 204,
   "id": "57993da9",
   "metadata": {},
   "outputs": [
    {
     "name": "stdout",
     "output_type": "stream",
     "text": [
      "(61921, 507) (61921,)\n"
     ]
    }
   ],
   "source": [
    "print(X_val.shape, y_val.shape)"
   ]
  },
  {
   "cell_type": "code",
   "execution_count": 213,
   "id": "f5ea902f",
   "metadata": {},
   "outputs": [
    {
     "name": "stdout",
     "output_type": "stream",
     "text": [
      "10.473871054242926\n"
     ]
    },
    {
     "data": {
      "image/png": "[encoded data removed]",
      "text/plain": [
       "<Figure size 432x288 with 1 Axes>"
      ]
     },
     "metadata": {
      "needs_background": "light"
     },
     "output_type": "display_data"
    }
   ],
   "source": [
    "# entrenando Regresion Lineal\n",
    "rl = LinearRegression()\n",
    "rl.fit(X_train, y_train)\n",
    "\n",
    "y_pred_rl = rl.predict(X_val)\n",
    "\n",
    "print(mean_squared_error(y_val, y_pred_rl, squared=False))\n",
    "sns.distplot(y_pred_rl, label='Reg Lineal')\n",
    "sns.distplot(y_val, label='Actual')\n",
    "plt.legend();"
   ]
  },
  {
   "cell_type": "code",
   "execution_count": 214,
   "id": "18ec30e4",
   "metadata": {},
   "outputs": [
    {
     "name": "stdout",
     "output_type": "stream",
     "text": [
      "12.212583224318818\n"
     ]
    },
    {
     "data": {
      "image/png": "[encoded data removed]",
      "text/plain": [
       "<Figure size 432x288 with 1 Axes>"
      ]
     },
     "metadata": {
      "needs_background": "light"
     },
     "output_type": "display_data"
    }
   ],
   "source": [
    "# entrenando Regresion Lineal\n",
    "rl_lasso = Lasso()\n",
    "rl_lasso.fit(X_train, y_train)\n",
    "\n",
    "y_pred_lasso = rl_lasso.predict(X_val)\n",
    "\n",
    "print(mean_squared_error(y_val, y_pred_lasso, squared=False))\n",
    "sns.distplot(y_pred_lasso, label='Reg Lasso')\n",
    "sns.distplot(y_pred_lasso, label='Actual')\n",
    "plt.legend();"
   ]
  },
  {
   "cell_type": "markdown",
   "id": "428530a1",
   "metadata": {},
   "source": [
    "## Creando un nuevo feature\n",
    "---"
   ]
  },
  {
   "cell_type": "code",
   "execution_count": 223,
   "id": "52794a35",
   "metadata": {},
   "outputs": [],
   "source": [
    "# creando un nuevo feature\n",
    "df_train[\"PU_LO\"] = df_train.PULocationID + '_' + df_train.DOLocationID\n",
    "df_val[\"PU_LO\"] = df_val.PULocationID + '_' + df_val.DOLocationID"
   ]
  },
  {
   "cell_type": "code",
   "execution_count": 224,
   "id": "6cb79f0b",
   "metadata": {},
   "outputs": [],
   "source": [
    "categorical = [\"PU_LO\"]\n",
    "numerical = [\"trip_distance\"]\n",
    "\n",
    "dv = DictVectorizer()\n",
    "\n",
    "train_dicts = df_train[categorical + numerical].to_dict(orient=\"records\")\n",
    "X_train = dv.fit_transform(train_dicts)\n",
    "\n",
    "val_dicts = df_val[categorical + numerical].to_dict(orient=\"records\")\n",
    "X_val = dv.transform(val_dicts) # OJO aqui solo usamos transform\n",
    "\n",
    "target = 'duration'\n",
    "y_train = df_train[target].values\n",
    "y_val = df_val[target].values\n"
   ]
  },
  {
   "cell_type": "code",
   "execution_count": 225,
   "id": "dc571477",
   "metadata": {},
   "outputs": [
    {
     "name": "stdout",
     "output_type": "stream",
     "text": [
      "7.4793657829373155\n"
     ]
    },
    {
     "data": {
      "image/png": "[encoded data removed]",
      "text/plain": [
       "<Figure size 432x288 with 1 Axes>"
      ]
     },
     "metadata": {
      "needs_background": "light"
     },
     "output_type": "display_data"
    }
   ],
   "source": [
    "# entrenando Regresion Lineal\n",
    "rl = LinearRegression()\n",
    "rl.fit(X_train, y_train)\n",
    "\n",
    "y_pred_rl = rl.predict(X_val)\n",
    "\n",
    "print(mean_squared_error(y_val, y_pred_rl, squared=False))\n",
    "sns.distplot(y_pred_rl, label='Reg Lineal')\n",
    "sns.distplot(y_val, label='Actual')\n",
    "plt.legend();"
   ]
  },
  {
   "cell_type": "code",
   "execution_count": 226,
   "id": "288b2dff",
   "metadata": {},
   "outputs": [],
   "source": [
    "import pickle\n",
    "with open(\"models/lin_reg.bin\", \"wb\") as f:\n",
    "    pickle.dump((dv,lr), f)"
   ]
  },
  {
   "cell_type": "code",
   "execution_count": 227,
   "id": "0900eb12",
   "metadata": {},
   "outputs": [
    {
     "name": "stdout",
     "output_type": "stream",
     "text": [
      "9.233436225720547\n"
     ]
    },
    {
     "data": {
      "image/png": "[encoded data removed]",
      "text/plain": [
       "<Figure size 432x288 with 1 Axes>"
      ]
     },
     "metadata": {
      "needs_background": "light"
     },
     "output_type": "display_data"
    }
   ],
   "source": [
    "# entrenando Regresion Lineal\n",
    "rl_lasso = Lasso(0.001)\n",
    "rl_lasso.fit(X_train, y_train)\n",
    "\n",
    "y_pred_lasso = rl_lasso.predict(X_val)\n",
    "\n",
    "print(mean_squared_error(y_val, y_pred_lasso, squared=False))\n",
    "sns.distplot(y_pred_lasso, label='Reg Lasso')\n",
    "sns.distplot(y_pred_lasso, label='Actual')\n",
    "plt.legend();"
   ]
  }
 ],
 "metadata": {
  "kernelspec": {
   "display_name": "Python 3 (ipykernel)",
   "language": "python",
   "name": "python3"
  },
  "language_info": {
   "codemirror_mode": {
    "name": "ipython",
    "version": 3
   },
   "file_extension": ".py",
   "mimetype": "text/x-python",
   "name": "python",
   "nbconvert_exporter": "python",
   "pygments_lexer": "ipython3",
   "version": "3.9.12"
  }
 },
 "nbformat": 4,
 "nbformat_minor": 5
}
