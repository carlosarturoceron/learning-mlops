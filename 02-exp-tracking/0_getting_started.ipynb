{
 "cells": [
  {
   "cell_type": "code",
   "execution_count": 1,
   "id": "92bc5d8c",
   "metadata": {},
   "outputs": [
    {
     "name": "stdout",
     "output_type": "stream",
     "text": [
      "Python 3.9.12\n"
     ]
    }
   ],
   "source": [
    "!python -V"
   ]
  },
  {
   "cell_type": "markdown",
   "id": "cbd600e5",
   "metadata": {},
   "source": [
    "## No queremos estar repitiendo la ejecución de este proceso celda por celda\n",
    "---\n",
    "\n",
    "Vamos a crear funciones para este proceso"
   ]
  },
  {
   "cell_type": "code",
   "execution_count": 8,
   "id": "14f94a50",
   "metadata": {},
   "outputs": [],
   "source": [
    "# los más de los duros, los reales, los meros buenos\n",
    "import pandas as pd\n",
    "import numpy as np\n",
    "\n",
    "# para graficar\n",
    "import matplotlib.pyplot as plt\n",
    "import seaborn as sns   \n",
    "\n",
    "# libreria que usaremos para aprendizaje\n",
    "import sklearn\n",
    "\n",
    "# para preprocesamiento\n",
    "from sklearn.feature_extraction import DictVectorizer\n",
    "\n",
    "# los modelos\n",
    "from sklearn.linear_model import LinearRegression\n",
    "from sklearn.linear_model import Lasso\n",
    "\n",
    "# las metricas\n",
    "from sklearn.metrics import mean_squared_error"
   ]
  },
  {
   "cell_type": "code",
   "execution_count": 9,
   "id": "f014b3fe",
   "metadata": {},
   "outputs": [],
   "source": [
    "# la funcion para leer los datos\n",
    "def leer_dataframe(filename):\n",
    "\n",
    "    df = pd.read_parquet(filename)\n",
    "\n",
    "    # parseamos el string a datetime\n",
    "    \n",
    "    df.lpep_dropoff_datetime = pd.to_datetime(df.lpep_dropoff_datetime) \n",
    "    df.lpep_pickup_datetime = pd.to_datetime(df.lpep_pickup_datetime)\n",
    "\n",
    "    df[\"duration\"] = df.lpep_dropoff_datetime - df.lpep_pickup_datetime\n",
    "    df[\"duration\"] = df.duration.apply(lambda x: x.total_seconds()/60)\n",
    "\n",
    "    df = df[(df.duration >= 1) & (df.duration <=60)]\n",
    "\n",
    "    # convirtiendo la duracion a segundos\n",
    "    \n",
    "    categorical = [\"PULocationID\", \"DOLocationID\"]\n",
    "    df[categorical] = df[categorical].astype(str)\n",
    "\n",
    "    return df\n",
    "    "
   ]
  },
  {
   "cell_type": "code",
   "execution_count": 11,
   "id": "da59fdf9",
   "metadata": {},
   "outputs": [
    {
     "name": "stdout",
     "output_type": "stream",
     "text": [
      "(73908, 21) (61921, 21)\n"
     ]
    }
   ],
   "source": [
    "df_train = leer_dataframe('./01-intro/data/green_tripdata_2021-01.parquet')\n",
    "df_val = leer_dataframe('./01-intro/data/green_tripdata_2021-02.parquet')\n",
    "print(df_train.shape, df_val.shape)"
   ]
  },
  {
   "cell_type": "code",
   "execution_count": 12,
   "id": "f8068b7b",
   "metadata": {},
   "outputs": [
    {
     "name": "stdout",
     "output_type": "stream",
     "text": [
      "250\n",
      "256\n"
     ]
    }
   ],
   "source": [
    "print(df_train.PULocationID.nunique())\n",
    "print(df_train.DOLocationID.nunique())"
   ]
  },
  {
   "cell_type": "code",
   "execution_count": 13,
   "id": "afa96c77",
   "metadata": {},
   "outputs": [
    {
     "name": "stdout",
     "output_type": "stream",
     "text": [
      "245\n",
      "254\n"
     ]
    }
   ],
   "source": [
    "print(df_val.PULocationID.nunique())\n",
    "print(df_val.DOLocationID.nunique())"
   ]
  },
  {
   "cell_type": "markdown",
   "id": "428530a1",
   "metadata": {},
   "source": [
    "## Creando un nuevo feature\n",
    "---"
   ]
  },
  {
   "cell_type": "code",
   "execution_count": 14,
   "id": "52794a35",
   "metadata": {},
   "outputs": [],
   "source": [
    "# creando un nuevo feature\n",
    "df_train[\"PU_LO\"] = df_train.PULocationID + '_' + df_train.DOLocationID\n",
    "df_val[\"PU_LO\"] = df_val.PULocationID + '_' + df_val.DOLocationID"
   ]
  },
  {
   "cell_type": "code",
   "execution_count": 15,
   "id": "6cb79f0b",
   "metadata": {},
   "outputs": [],
   "source": [
    "categorical = [\"PU_LO\"]\n",
    "numerical = [\"trip_distance\"]\n",
    "\n",
    "dv = DictVectorizer()\n",
    "\n",
    "train_dicts = df_train[categorical + numerical].to_dict(orient=\"records\")\n",
    "X_train = dv.fit_transform(train_dicts)\n",
    "\n",
    "val_dicts = df_val[categorical + numerical].to_dict(orient=\"records\")\n",
    "X_val = dv.transform(val_dicts) # OJO aqui solo usamos transform\n",
    "\n",
    "target = 'duration'\n",
    "y_train = df_train[target].values\n",
    "y_val = df_val[target].values\n"
   ]
  },
  {
   "cell_type": "code",
   "execution_count": 16,
   "id": "dc571477",
   "metadata": {},
   "outputs": [
    {
     "name": "stdout",
     "output_type": "stream",
     "text": [
      "7.4793657829373155\n"
     ]
    },
    {
     "name": "stderr",
     "output_type": "stream",
     "text": [
      "/home/codespace/anaconda3/lib/python3.9/site-packages/seaborn/distributions.py:2619: FutureWarning: `distplot` is a deprecated function and will be removed in a future version. Please adapt your code to use either `displot` (a figure-level function with similar flexibility) or `histplot` (an axes-level function for histograms).\n",
      "  warnings.warn(msg, FutureWarning)\n",
      "/home/codespace/anaconda3/lib/python3.9/site-packages/seaborn/distributions.py:2619: FutureWarning: `distplot` is a deprecated function and will be removed in a future version. Please adapt your code to use either `displot` (a figure-level function with similar flexibility) or `histplot` (an axes-level function for histograms).\n",
      "  warnings.warn(msg, FutureWarning)\n"
     ]
    },
    {
     "data": {
      "image/png": "[encoded data removed]",
      "text/plain": [
       "<Figure size 432x288 with 1 Axes>"
      ]
     },
     "metadata": {
      "needs_background": "light"
     },
     "output_type": "display_data"
    }
   ],
   "source": [
    "# entrenando Regresion Lineal\n",
    "rl = LinearRegression()\n",
    "rl.fit(X_train, y_train)\n",
    "\n",
    "y_pred_rl = rl.predict(X_val)\n",
    "\n",
    "print(mean_squared_error(y_val, y_pred_rl, squared=False))\n",
    "sns.distplot(y_pred_rl, label='Reg Lineal')\n",
    "sns.distplot(y_val, label='Actual')\n",
    "plt.legend();"
   ]
  },
  {
   "cell_type": "code",
   "execution_count": 30,
   "id": "288b2dff",
   "metadata": {},
   "outputs": [],
   "source": [
    "import pickle\n",
    "with open(\"/workspaces/learning-mlops/02-exp-tracking/models/lin_reg2.bin\", \"wb\") as f:\n",
    "    pickle.dump((dv,rl), f)"
   ]
  },
  {
   "cell_type": "code",
   "execution_count": 227,
   "id": "0900eb12",
   "metadata": {},
   "outputs": [
    {
     "name": "stdout",
     "output_type": "stream",
     "text": [
      "9.233436225720547\n"
     ]
    },
    {
     "data": {
      "image/png": "[encoded data removed]",
      "text/plain": [
       "<Figure size 432x288 with 1 Axes>"
      ]
     },
     "metadata": {
      "needs_background": "light"
     },
     "output_type": "display_data"
    }
   ],
   "source": [
    "# entrenando Regresion Lineal\n",
    "rl_lasso = Lasso(0.001)\n",
    "rl_lasso.fit(X_train, y_train)\n",
    "\n",
    "y_pred_lasso = rl_lasso.predict(X_val)\n",
    "\n",
    "print(mean_squared_error(y_val, y_pred_lasso, squared=False))\n",
    "sns.distplot(y_pred_lasso, label='Reg Lasso')\n",
    "sns.distplot(y_pred_lasso, label='Actual')\n",
    "plt.legend();"
   ]
  }
 ],
 "metadata": {
  "kernelspec": {
   "display_name": "Python 3 (ipykernel)",
   "language": "python",
   "name": "python3"
  },
  "language_info": {
   "codemirror_mode": {
    "name": "ipython",
    "version": 3
   },
   "file_extension": ".py",
   "mimetype": "text/x-python",
   "name": "python",
   "nbconvert_exporter": "python",
   "pygments_lexer": "ipython3",
   "version": "3.9.12"
  }
 },
 "nbformat": 4,
 "nbformat_minor": 5
}
