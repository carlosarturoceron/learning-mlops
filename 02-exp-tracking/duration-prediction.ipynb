{
 "cells": [
  {
   "cell_type": "code",
   "execution_count": 20,
   "id": "92bc5d8c",
   "metadata": {},
   "outputs": [
    {
     "name": "stdout",
     "output_type": "stream",
     "text": [
      "Python 3.10.13\n"
     ]
    }
   ],
   "source": [
    "!python -V"
   ]
  },
  {
   "cell_type": "markdown",
   "id": "aa06ee42",
   "metadata": {},
   "source": [
    "Ejecutando MLflow desde bash con backend en sqlite\n",
    "\n",
    "```bash\n",
    "mlflow ui --backend-store-uri sqlite:///mlflow.db\n",
    "```"
   ]
  },
  {
   "cell_type": "code",
   "execution_count": null,
   "id": "ddaca442",
   "metadata": {},
   "outputs": [],
   "source": [
    "# !pip install mlflow==2.13.0"
   ]
  },
  {
   "cell_type": "markdown",
   "id": "cbd600e5",
   "metadata": {},
   "source": [
    "## No queremos estar repitiendo la ejecución de este proceso celda por celda\n",
    "---\n",
    "\n",
    "Vamos a crear funciones para este proceso"
   ]
  },
  {
   "cell_type": "code",
   "execution_count": 33,
   "id": "14f94a50",
   "metadata": {},
   "outputs": [],
   "source": [
    "# los más de los duros, los reales, los meros buenos\n",
    "import pandas as pd\n",
    "import numpy as np\n",
    "\n",
    "# para graficar\n",
    "import matplotlib.pyplot as plt\n",
    "import seaborn as sns   \n",
    "\n",
    "# libreria que usaremos para aprendizaje\n",
    "import sklearn\n",
    "\n",
    "# para preprocesamiento\n",
    "from sklearn.feature_extraction import DictVectorizer\n",
    "\n",
    "# los modelos\n",
    "from sklearn.linear_model import LinearRegression\n",
    "from sklearn.linear_model import Lasso\n",
    "\n",
    "# las metricas\n",
    "from sklearn.metrics import mean_squared_error\n",
    "\n",
    "# !!! New stuff after adding mlflow\n",
    "import mlflow\n",
    "\n",
    "# para las advertencias (NO USAR EN PROD!!!!)\n",
    "import warnings\n",
    "warnings.filterwarnings(\"ignore\")"
   ]
  },
  {
   "cell_type": "code",
   "execution_count": 2,
   "id": "558bc9cf",
   "metadata": {},
   "outputs": [
    {
     "name": "stderr",
     "output_type": "stream",
     "text": [
      "2024/05/21 21:18:24 INFO mlflow.store.db.utils: Creating initial MLflow database tables...\n",
      "2024/05/21 21:18:24 INFO mlflow.store.db.utils: Updating database tables\n",
      "INFO  [alembic.runtime.migration] Context impl SQLiteImpl.\n",
      "INFO  [alembic.runtime.migration] Will assume non-transactional DDL.\n",
      "INFO  [alembic.runtime.migration] Running upgrade bd07f7e963c5 -> 0c779009ac13, add deleted_time field to runs table\n",
      "INFO  [alembic.runtime.migration] Running upgrade 0c779009ac13 -> cc1f77228345, change param value length to 500\n",
      "INFO  [alembic.runtime.migration] Running upgrade cc1f77228345 -> 97727af70f4d, Add creation_time and last_update_time to experiments table\n",
      "INFO  [alembic.runtime.migration] Running upgrade 97727af70f4d -> 3500859a5d39, Add Model Aliases table\n",
      "INFO  [alembic.runtime.migration] Running upgrade 3500859a5d39 -> 7f2a7d5fae7d, add datasets inputs input_tags tables\n",
      "INFO  [alembic.runtime.migration] Running upgrade 7f2a7d5fae7d -> 2d6e25af4d3e, increase max param val length from 500 to 8000\n",
      "INFO  [alembic.runtime.migration] Running upgrade 2d6e25af4d3e -> acf3f17fdcc7, add storage location field to model versions\n",
      "INFO  [alembic.runtime.migration] Running upgrade acf3f17fdcc7 -> 867495a8f9d4, add trace tables\n",
      "INFO  [alembic.runtime.migration] Context impl SQLiteImpl.\n",
      "INFO  [alembic.runtime.migration] Will assume non-transactional DDL.\n",
      "2024/05/21 21:18:25 INFO mlflow.tracking.fluent: Experiment with name 'nyc-taxi-experiment' does not exist. Creating a new experiment.\n"
     ]
    },
    {
     "data": {
      "text/plain": [
       "<Experiment: artifact_location='/workspaces/learning-mlops/02-exp-tracking/mlruns/1', creation_time=1716326305194, experiment_id='1', last_update_time=1716326305194, lifecycle_stage='active', name='nyc-taxi-experiment', tags={}>"
      ]
     },
     "execution_count": 2,
     "metadata": {},
     "output_type": "execute_result"
    }
   ],
   "source": [
    "mlflow.set_tracking_uri(\"sqlite:///mlflow.db\")\n",
    "mlflow.set_experiment(\"nyc-taxi-experiment\")"
   ]
  },
  {
   "cell_type": "code",
   "execution_count": 3,
   "id": "f014b3fe",
   "metadata": {},
   "outputs": [],
   "source": [
    "# la funcion para leer los datos\n",
    "def leer_dataframe(filename):\n",
    "\n",
    "    df = pd.read_parquet(filename)\n",
    "\n",
    "    # parseamos el string a datetime\n",
    "    \n",
    "    df.lpep_dropoff_datetime = pd.to_datetime(df.lpep_dropoff_datetime) \n",
    "    df.lpep_pickup_datetime = pd.to_datetime(df.lpep_pickup_datetime)\n",
    "\n",
    "    df[\"duration\"] = df.lpep_dropoff_datetime - df.lpep_pickup_datetime\n",
    "    df[\"duration\"] = df.duration.apply(lambda x: x.total_seconds()/60)\n",
    "\n",
    "    df = df[(df.duration >= 1) & (df.duration <=60)]\n",
    "\n",
    "    # convirtiendo la duracion a segundos\n",
    "    \n",
    "    categorical = [\"PULocationID\", \"DOLocationID\"]\n",
    "    df[categorical] = df[categorical].astype(str)\n",
    "\n",
    "    return df\n",
    "    "
   ]
  },
  {
   "cell_type": "code",
   "execution_count": 4,
   "id": "da59fdf9",
   "metadata": {},
   "outputs": [
    {
     "name": "stdout",
     "output_type": "stream",
     "text": [
      "(73908, 21) (61921, 21)\n"
     ]
    }
   ],
   "source": [
    "df_train = leer_dataframe('../01-intro/data/green_tripdata_2021-01.parquet')\n",
    "df_val = leer_dataframe('../01-intro/data/green_tripdata_2021-02.parquet')\n",
    "print(df_train.shape, df_val.shape)"
   ]
  },
  {
   "cell_type": "code",
   "execution_count": 5,
   "id": "f8068b7b",
   "metadata": {},
   "outputs": [
    {
     "name": "stdout",
     "output_type": "stream",
     "text": [
      "250\n",
      "256\n"
     ]
    }
   ],
   "source": [
    "print(df_train.PULocationID.nunique())\n",
    "print(df_train.DOLocationID.nunique())"
   ]
  },
  {
   "cell_type": "code",
   "execution_count": 6,
   "id": "afa96c77",
   "metadata": {},
   "outputs": [
    {
     "name": "stdout",
     "output_type": "stream",
     "text": [
      "245\n",
      "254\n"
     ]
    }
   ],
   "source": [
    "print(df_val.PULocationID.nunique())\n",
    "print(df_val.DOLocationID.nunique())"
   ]
  },
  {
   "cell_type": "code",
   "execution_count": 17,
   "id": "8cf1f80c",
   "metadata": {},
   "outputs": [],
   "source": [
    "# creando un nuevo feature\n",
    "df_train[\"PU_LO\"] = df_train.PULocationID + '_' + df_train.DOLocationID\n",
    "df_val[\"PU_LO\"] = df_val.PULocationID + '_' + df_val.DOLocationID"
   ]
  },
  {
   "cell_type": "code",
   "execution_count": 18,
   "id": "9a5c456f",
   "metadata": {},
   "outputs": [],
   "source": [
    "categorical = [\"PU_LO\"] #\"PULocationID\", \"DOLocationID\"]\n",
    "numerical = [\"trip_distance\"]"
   ]
  },
  {
   "cell_type": "code",
   "execution_count": 19,
   "id": "d0ce6764",
   "metadata": {},
   "outputs": [],
   "source": [
    "dv = DictVectorizer()\n",
    "\n",
    "train_dicts = df_train[categorical + numerical].to_dict(orient=\"records\")\n",
    "X_train = dv.fit_transform(train_dicts)\n",
    "\n",
    "val_dicts = df_val[categorical + numerical].to_dict(orient=\"records\")\n",
    "X_val = dv.transform(val_dicts) # OJO aqui solo usamos transform\n",
    "\n",
    "target = 'duration'\n",
    "y_train = df_train[target].values\n",
    "y_val = df_val[target].values\n"
   ]
  },
  {
   "cell_type": "code",
   "execution_count": 20,
   "id": "17f315df",
   "metadata": {},
   "outputs": [
    {
     "name": "stdout",
     "output_type": "stream",
     "text": [
      "(73908, 13221) (73908,)\n"
     ]
    }
   ],
   "source": [
    "print(X_train.shape, y_train.shape)"
   ]
  },
  {
   "cell_type": "code",
   "execution_count": 21,
   "id": "57993da9",
   "metadata": {},
   "outputs": [
    {
     "name": "stdout",
     "output_type": "stream",
     "text": [
      "(61921, 13221) (61921,)\n"
     ]
    }
   ],
   "source": [
    "print(X_val.shape, y_val.shape)"
   ]
  },
  {
   "cell_type": "code",
   "execution_count": 22,
   "id": "f5ea902f",
   "metadata": {},
   "outputs": [
    {
     "name": "stdout",
     "output_type": "stream",
     "text": [
      "7.758715208009878\n"
     ]
    },
    {
     "name": "stderr",
     "output_type": "stream",
     "text": [
      "/home/codespace/.local/lib/python3.10/site-packages/sklearn/metrics/_regression.py:483: FutureWarning: 'squared' is deprecated in version 1.4 and will be removed in 1.6. To calculate the root mean squared error, use the function'root_mean_squared_error'.\n",
      "  warnings.warn(\n"
     ]
    }
   ],
   "source": [
    "# entrenando Regresion Lineal\n",
    "rl = LinearRegression()\n",
    "rl.fit(X_train, y_train)\n",
    "\n",
    "y_pred_rl = rl.predict(X_val)\n",
    "\n",
    "print(mean_squared_error(y_val, y_pred_rl, squared=False))"
   ]
  },
  {
   "cell_type": "code",
   "execution_count": 23,
   "id": "d75ba666",
   "metadata": {},
   "outputs": [
    {
     "name": "stderr",
     "output_type": "stream",
     "text": [
      "/tmp/ipykernel_27331/2469217929.py:1: UserWarning: \n",
      "\n",
      "`distplot` is a deprecated function and will be removed in seaborn v0.14.0.\n",
      "\n",
      "Please adapt your code to use either `displot` (a figure-level function with\n",
      "similar flexibility) or `histplot` (an axes-level function for histograms).\n",
      "\n",
      "For a guide to updating your code to use the new functions, please see\n",
      "https://gist.github.com/mwaskom/de44147ed2974457ad6372750bbe5751\n",
      "\n",
      "  sns.distplot(y_pred_rl, label='Reg Lineal')\n",
      "/tmp/ipykernel_27331/2469217929.py:2: UserWarning: \n",
      "\n",
      "`distplot` is a deprecated function and will be removed in seaborn v0.14.0.\n",
      "\n",
      "Please adapt your code to use either `displot` (a figure-level function with\n",
      "similar flexibility) or `histplot` (an axes-level function for histograms).\n",
      "\n",
      "For a guide to updating your code to use the new functions, please see\n",
      "https://gist.github.com/mwaskom/de44147ed2974457ad6372750bbe5751\n",
      "\n",
      "  sns.distplot(y_val, label='Actual')\n"
     ]
    },
    {
     "data": {
      "image/png": "[encoded data removed]",
      "text/plain": [
       "<Figure size 640x480 with 1 Axes>"
      ]
     },
     "metadata": {},
     "output_type": "display_data"
    }
   ],
   "source": [
    "sns.distplot(y_pred_rl, label='Reg Lineal')\n",
    "sns.distplot(y_val, label='Actual')\n",
    "plt.legend();"
   ]
  },
  {
   "cell_type": "code",
   "execution_count": 35,
   "id": "18ec30e4",
   "metadata": {},
   "outputs": [
    {
     "name": "stdout",
     "output_type": "stream",
     "text": [
      "12.212583224318818\n"
     ]
    }
   ],
   "source": [
    "# entrenando Regresion Lineal\n",
    "rl_lasso = Lasso()\n",
    "rl_lasso.fit(X_train, y_train)\n",
    "\n",
    "y_pred_lasso = rl_lasso.predict(X_val)\n",
    "\n",
    "print(mean_squared_error(y_val, y_pred_lasso, squared=False))"
   ]
  },
  {
   "cell_type": "code",
   "execution_count": 40,
   "id": "40e80602",
   "metadata": {},
   "outputs": [
    {
     "data": {
      "image/png": "[encoded data removed]",
      "text/plain": [
       "<Figure size 640x480 with 1 Axes>"
      ]
     },
     "metadata": {},
     "output_type": "display_data"
    }
   ],
   "source": [
    "sns.distplot(y_pred_lasso, label='Reg Lasso')\n",
    "sns.distplot(y_val, label='Actual')\n",
    "plt.legend();"
   ]
  },
  {
   "cell_type": "markdown",
   "id": "1aad90b7",
   "metadata": {},
   "source": [
    "## Guardando los modelos"
   ]
  },
  {
   "cell_type": "code",
   "execution_count": 26,
   "id": "288b2dff",
   "metadata": {},
   "outputs": [],
   "source": [
    "import pickle\n",
    "with open(\"models/lin_reg.bin\", \"wb\") as f:\n",
    "    pickle.dump((dv, rl), f)"
   ]
  },
  {
   "cell_type": "markdown",
   "id": "0900eb12",
   "metadata": {},
   "source": [
    "entrenando Regresion Lasso\n",
    "\n",
    "```\n",
    "rl_lasso = Lasso(0.001)\n",
    "rl_lasso.fit(X_train, y_train)\n",
    "y_pred_lasso = rl_lasso.predict(X_val)\n",
    "```"
   ]
  },
  {
   "cell_type": "code",
   "execution_count": 37,
   "id": "11aa4ed9",
   "metadata": {},
   "outputs": [],
   "source": [
    "with mlflow.start_run():\n",
    "\n",
    "    mlflow.set_tag('developer', 'carlos ceron')\n",
    "    # sobre simplificacion de versionamiento de datos\n",
    "    mlflow.log_param(\"train-data-path\", \"../01-intro/data/green_tripdata_2021-01.parquet\")\n",
    "    mlflow.log_param(\"validation-data-path\", \"../01-intro/data/green_tripdata_2021-02.parquet\")\n",
    "    \n",
    "    alpha = 0.01\n",
    "    mlflow.log_param(\"alpha\", alpha)\n",
    "\n",
    "    # Llevando seguimiento del entrenamiento en MLflow\n",
    "    lasso = Lasso(0.001)\n",
    "    lasso.fit(X_train, y_train)\n",
    "\n",
    "    y_pred_lasso = lasso.predict(X_val)\n",
    "\n",
    "    rmse = mean_squared_error(y_val, y_pred_lasso, squared=False)\n",
    "\n",
    "    mlflow.log_metric(\"rmse\", rmse)"
   ]
  },
  {
   "cell_type": "code",
   "execution_count": 38,
   "id": "e98f0e34",
   "metadata": {},
   "outputs": [
    {
     "name": "stdout",
     "output_type": "stream",
     "text": [
      "9.233436225720547\n"
     ]
    }
   ],
   "source": [
    "print(rmse)"
   ]
  },
  {
   "cell_type": "code",
   "execution_count": 41,
   "id": "96c59c24",
   "metadata": {},
   "outputs": [
    {
     "data": {
      "image/png": "[encoded data removed]",
      "text/plain": [
       "<Figure size 640x480 with 1 Axes>"
      ]
     },
     "metadata": {},
     "output_type": "display_data"
    }
   ],
   "source": [
    "sns.distplot(y_pred_lasso, label='Reg Lasso')\n",
    "sns.distplot(y_val, label='Actual')\n",
    "plt.legend();"
   ]
  },
  {
   "cell_type": "markdown",
   "id": "5c65bd52",
   "metadata": {},
   "source": [
    "## Entrenando otro tipo de modelo para comparat"
   ]
  },
  {
   "cell_type": "code",
   "execution_count": 52,
   "id": "86da23f2",
   "metadata": {},
   "outputs": [],
   "source": [
    "#!pip install xgboost\n",
    "import xgboost as xgb"
   ]
  },
  {
   "cell_type": "code",
   "execution_count": 51,
   "id": "f15031a4",
   "metadata": {},
   "outputs": [],
   "source": [
    "# !pip install hyperopt\n",
    "# libreria que usa metodos bayesianos para encontrar la mejor combinacion de hiperparametros\n",
    "# el modelo se convierte en una funcion que tiene inputs y produce outputs\n",
    "from hyperopt import fmin, tpe, hp, STATUS_OK, Trials\n",
    "from hyperopt.pyll import scope\n",
    "\n",
    "# fmin: funcion para minimizar el objetivo\n",
    "# tpe: algorimo que controla esta logiva\n",
    "# hp: libreria que contiene metodos para definir los rangos de los hiperparametros. Define el espacio de busqueda.\n",
    "# STATUS_OK: senal que mandaremos al final de cada corrida, para que hyperopt sepa que la funcion objetivo se ejecuto correctamente\n",
    "# Trials: llevara registro de la informacion de cada corrida\n",
    "# scope: la usaremos para definir un rango de typo int\n"
   ]
  },
  {
   "cell_type": "code",
   "execution_count": 53,
   "id": "97333cf0",
   "metadata": {},
   "outputs": [],
   "source": [
    "# primero tenemos que definir la funcion objetivo\n",
    "\n",
    "def funcion_objetivo(parametros, train_set, validation_set):\n",
    "\n",
    "    with mlflow.start_run():\n",
    "        mlflow.set_tag(\"model\", \"xgboost\")\n",
    "        mlflow.log_params(parametros)\n",
    "\n",
    "        xg = xgb.train(\n",
    "            params=parametros,\n",
    "            dtrain=train_set,\n",
    "            num_boost_round=1000,\n",
    "            evals=[(validation_set,\"validation\")],\n",
    "            early_stopping_rounds=50\n",
    "        )\n",
    "\n",
    "        y_pred = xg.predict(validation_set)\n",
    "        rmse = mean_squared_error(y_val, y_pred, squared=False)\n",
    "        mlflow.log_metric(\"rmse\", rmse)\n",
    "\n",
    "    return {\"loss\": rmse, \"status\": STATUS_OK}"
   ]
  },
  {
   "cell_type": "code",
   "execution_count": 56,
   "id": "bd960a1e",
   "metadata": {},
   "outputs": [],
   "source": [
    "search_space = {\n",
    "    \"max_depth\": scope.int(hp.quniform(\"max_depth\", 4, 100, 1)),\n",
    "    \"learning_rate\": hp.loguniform(\"learning_rate\", -3, 0), # exp(-3) hasta exp(0) - (0.05, 1.0)\n",
    "    \"reg_alpha\": hp.loguniform(\"reg_alpha\", -5, -1),\n",
    "    \"reg_lambda\": hp.loguniform(\"reg_lambda\", -6, -1),\n",
    "    \"min_child_weight\": hp.loguniform(\"min_child_weight\", -1, 3),\n",
    "    \"objective\": \"reg_linear\",\n",
    "    \"seed\": 42,\n",
    "}"
   ]
  },
  {
   "cell_type": "code",
   "execution_count": null,
   "id": "6742d5e6",
   "metadata": {},
   "outputs": [],
   "source": [
    "best_result = fmin(\n",
    "    fn=funcion_objetivo,\n",
    "    space=search_space,\n",
    "    algo=tpe.suggest,\n",
    "    max_evals=50,\n",
    "    trials=Trials()\n",
    ")"
   ]
  }
 ],
 "metadata": {
  "kernelspec": {
   "display_name": "Python 3 (ipykernel)",
   "language": "python",
   "name": "python3"
  },
  "language_info": {
   "codemirror_mode": {
    "name": "ipython",
    "version": 3
   },
   "file_extension": ".py",
   "mimetype": "text/x-python",
   "name": "python",
   "nbconvert_exporter": "python",
   "pygments_lexer": "ipython3",
   "version": "3.10.13"
  }
 },
 "nbformat": 4,
 "nbformat_minor": 5
}
